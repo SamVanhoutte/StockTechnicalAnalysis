{
 "cells": [
  {
   "cell_type": "markdown",
   "metadata": {},
   "source": [
    "# Stock Technical Analysis: Python Tutorial"
   ]
  },
  {
   "cell_type": "markdown",
   "metadata": {},
   "source": [
    "Mass Index\n",
    "\n",
    "Contact: andrewshamlet@gmail.com // @andrewshamlet"
   ]
  },
  {
   "cell_type": "markdown",
   "metadata": {},
   "source": [
    "Python streamlines tasks requiring multiple steps in a single block of code. For this reason, it is a great tool for querying and performing analysis on data."
   ]
  },
  {
   "cell_type": "markdown",
   "metadata": {},
   "source": [
    "Last Tutorial, we outlined steps for calculating Commodity Channel Index (CCI)."
   ]
  },
  {
   "cell_type": "markdown",
   "metadata": {},
   "source": [
    "In this Tutorial, we introduce a new technical indicator, the Mass Index."
   ]
  },
  {
   "cell_type": "markdown",
   "metadata": {},
   "source": [
    "Developed by Donald Dorsey, the Mass Index uses the high-low range to identify trend reversals based on range expansions. In this sense, the Mass Index is a volatility indicator that does not have a directional bias. Instead, the Mass Index identifies range bulges that can foreshadow a reversal of the current trend."
   ]
  },
  {
   "cell_type": "markdown",
   "metadata": {},
   "source": [
    "The Mass Index is calculated as follows:\n",
    "    \n",
    "        Single EMA = 9-period exponential moving average (EMA) of the high-low differential  \n",
    "\n",
    "        Double EMA = 9-period EMA of the 9-period EMA of the high-low differential \n",
    "\n",
    "        EMA Ratio = Single EMA divided by Double EMA \n",
    "\n",
    "        Mass Index = 25-period sum of the EMA Ratio "
   ]
  },
  {
   "cell_type": "markdown",
   "metadata": {},
   "source": [
    "First, the Single EMA provides the average for the high-low range. \n",
    "\n",
    "Second, the Double EMA provides a second smoothing of this volatility measure. \n",
    "\n",
    "Using a ratio of these two exponential moving averages normalizes the data series. This ratio shows when the Single EMA becomes large relative to the Double EMA. \n",
    "\n",
    "The final step, a 25-period summation, acts like a moving average to further smooth the data series. \n",
    "\n",
    "Overall, the Mass Index rises as the high-low range widens and falls as the high-low range narrows. "
   ]
  },
  {
   "cell_type": "markdown",
   "metadata": {},
   "source": [
    "Donald Dorsey looked for “reversal bulges” to signal a trend reversal. According to Dorsey, a bulge occurs when the Mass Index moves above 27. This initial bulge does not complete the signal though. Dorsey waited for this bulge to reverse with a move back below 26.50. Once the reversal bulge is complete, traders should use other analysis techniques to determine the direction of the next move. Ideally, a downtrend followed by a reversal bulge would suggest a bullish trend reversal. Conversely, an uptrend followed by a reversal bulge would suggest a bearish trend reversal."
   ]
  },
  {
   "cell_type": "markdown",
   "metadata": {},
   "source": [
    "Let’s use Python to compute the Mass Index."
   ]
  },
  {
   "cell_type": "markdown",
   "metadata": {},
   "source": [
    "1.) Import modules."
   ]
  },
  {
   "cell_type": "code",
   "execution_count": 2,
   "metadata": {
    "collapsed": false
   },
   "outputs": [],
   "source": [
    "import pandas as pd\n",
    "import numpy as np\n",
    "from pandas_datareader import data as web\n",
    "import matplotlib.pyplot as plt\n",
    "%matplotlib inline"
   ]
  },
  {
   "cell_type": "markdown",
   "metadata": {},
   "source": [
    "2.a.) Define function for querying daily close."
   ]
  },
  {
   "cell_type": "code",
   "execution_count": 3,
   "metadata": {
    "collapsed": true
   },
   "outputs": [],
   "source": [
    "def get_stock(stock,start,end):\n",
    "     return web.DataReader(stock,'google',start,end)['Close']"
   ]
  },
  {
   "cell_type": "markdown",
   "metadata": {},
   "source": [
    "2.b.) Define function for querying daily high."
   ]
  },
  {
   "cell_type": "code",
   "execution_count": 4,
   "metadata": {
    "collapsed": true
   },
   "outputs": [],
   "source": [
    "def get_high(stock,start,end):\n",
    "     return web.DataReader(stock,'google',start,end)['High']"
   ]
  },
  {
   "cell_type": "markdown",
   "metadata": {},
   "source": [
    "2.c.) Define function for querying daily low."
   ]
  },
  {
   "cell_type": "code",
   "execution_count": 5,
   "metadata": {
    "collapsed": true
   },
   "outputs": [],
   "source": [
    "def get_low(stock,start,end):\n",
    "     return web.DataReader(stock,'google',start,end)['Low']"
   ]
  },
  {
   "cell_type": "markdown",
   "metadata": {},
   "source": [
    "3.) Define function for Mass Index."
   ]
  },
  {
   "cell_type": "code",
   "execution_count": 6,
   "metadata": {
    "collapsed": true
   },
   "outputs": [],
   "source": [
    "def MassIndex(high, low):  \n",
    "    Range = high - low  \n",
    "    EX1 = pd.ewma(Range, span = 9, min_periods = 8)  \n",
    "    EX2 = pd.ewma(EX1, span = 9, min_periods = 8)  \n",
    "    Mass = EX1 / EX2  \n",
    "    MassIndex = pd.Series(pd.rolling_sum(Mass, 25), name = 'Mass Index')  \n",
    "    return MassIndex"
   ]
  },
  {
   "cell_type": "markdown",
   "metadata": {},
   "source": [
    "How does the Mass Index function work?"
   ]
  },
  {
   "cell_type": "markdown",
   "metadata": {},
   "source": [
    "3.a.) Function calculates the difference between the high and the low, and sets this value to variable Range."
   ]
  },
  {
   "cell_type": "code",
   "execution_count": 7,
   "metadata": {
    "collapsed": true
   },
   "outputs": [],
   "source": [
    "#Range = high - low  "
   ]
  },
  {
   "cell_type": "markdown",
   "metadata": {},
   "source": [
    "3.b.) Function takes a 9 period Exponential Moving Average of the Range, and sets this value to variable EX1."
   ]
  },
  {
   "cell_type": "code",
   "execution_count": 8,
   "metadata": {
    "collapsed": true
   },
   "outputs": [],
   "source": [
    "#EX1 = pd.ewma(Range, span = 9, min_periods = 8)  "
   ]
  },
  {
   "cell_type": "markdown",
   "metadata": {},
   "source": [
    "3.c.) Function takes a 9 period Exponential Moving Average of the EX1, to smooth volatility, and sets this value to variable EX2. "
   ]
  },
  {
   "cell_type": "code",
   "execution_count": 9,
   "metadata": {
    "collapsed": true
   },
   "outputs": [],
   "source": [
    "#EX2 = pd.ewma(EX1, span = 9, min_periods = 8)  "
   ]
  },
  {
   "cell_type": "markdown",
   "metadata": {},
   "source": [
    "3.d.) Function takes the ratio of EX1 to EX2, and sets this value to variable Mass. "
   ]
  },
  {
   "cell_type": "code",
   "execution_count": 10,
   "metadata": {
    "collapsed": true
   },
   "outputs": [],
   "source": [
    "#Mass = EX1 / EX2  "
   ]
  },
  {
   "cell_type": "markdown",
   "metadata": {},
   "source": [
    "3.e.) Function calculates the 25 period rolling sum of Mass, and sets this value to variable MassIndex. "
   ]
  },
  {
   "cell_type": "code",
   "execution_count": 11,
   "metadata": {
    "collapsed": true
   },
   "outputs": [],
   "source": [
    "#MassIndex = pd.Series(pd.rolling_sum(Mass, 25), name = 'Mass Index')  "
   ]
  },
  {
   "cell_type": "markdown",
   "metadata": {},
   "source": [
    "3.f.) Function returns MassIndex."
   ]
  },
  {
   "cell_type": "code",
   "execution_count": 12,
   "metadata": {
    "collapsed": true
   },
   "outputs": [],
   "source": [
    "#return MassIndex"
   ]
  },
  {
   "cell_type": "markdown",
   "metadata": {},
   "source": [
    "4.) Query daily close, high, and low for ‘FB’ during 2016."
   ]
  },
  {
   "cell_type": "code",
   "execution_count": 13,
   "metadata": {
    "collapsed": false
   },
   "outputs": [],
   "source": [
    "df = pd.DataFrame(get_stock('FB', '1/1/2016', '12/31/2016'))\n",
    "df['High'] = get_high('FB', '1/1/2016', '12/31/2016')\n",
    "df['Low'] = get_low('FB', '1/1/2016', '12/31/2016')"
   ]
  },
  {
   "cell_type": "markdown",
   "metadata": {},
   "source": [
    "5.) Run daily high and low through Mass Index function. Save series to new column in dataframe. "
   ]
  },
  {
   "cell_type": "code",
   "execution_count": 14,
   "metadata": {
    "collapsed": false
   },
   "outputs": [
    {
     "data": {
      "text/html": [
       "<div>\n",
       "<table border=\"1\" class=\"dataframe\">\n",
       "  <thead>\n",
       "    <tr style=\"text-align: right;\">\n",
       "      <th></th>\n",
       "      <th>Close</th>\n",
       "      <th>High</th>\n",
       "      <th>Low</th>\n",
       "      <th>MassIndex</th>\n",
       "    </tr>\n",
       "    <tr>\n",
       "      <th>Date</th>\n",
       "      <th></th>\n",
       "      <th></th>\n",
       "      <th></th>\n",
       "      <th></th>\n",
       "    </tr>\n",
       "  </thead>\n",
       "  <tbody>\n",
       "    <tr>\n",
       "      <th>2016-12-23</th>\n",
       "      <td>117.27</td>\n",
       "      <td>117.56</td>\n",
       "      <td>116.30</td>\n",
       "      <td>22.922974</td>\n",
       "    </tr>\n",
       "    <tr>\n",
       "      <th>2016-12-27</th>\n",
       "      <td>118.01</td>\n",
       "      <td>118.68</td>\n",
       "      <td>116.86</td>\n",
       "      <td>22.857517</td>\n",
       "    </tr>\n",
       "    <tr>\n",
       "      <th>2016-12-28</th>\n",
       "      <td>116.92</td>\n",
       "      <td>118.25</td>\n",
       "      <td>116.65</td>\n",
       "      <td>22.743369</td>\n",
       "    </tr>\n",
       "    <tr>\n",
       "      <th>2016-12-29</th>\n",
       "      <td>116.35</td>\n",
       "      <td>117.53</td>\n",
       "      <td>116.06</td>\n",
       "      <td>22.690799</td>\n",
       "    </tr>\n",
       "    <tr>\n",
       "      <th>2016-12-30</th>\n",
       "      <td>115.05</td>\n",
       "      <td>116.83</td>\n",
       "      <td>114.77</td>\n",
       "      <td>22.770264</td>\n",
       "    </tr>\n",
       "  </tbody>\n",
       "</table>\n",
       "</div>"
      ],
      "text/plain": [
       "             Close    High     Low  MassIndex\n",
       "Date                                         \n",
       "2016-12-23  117.27  117.56  116.30  22.922974\n",
       "2016-12-27  118.01  118.68  116.86  22.857517\n",
       "2016-12-28  116.92  118.25  116.65  22.743369\n",
       "2016-12-29  116.35  117.53  116.06  22.690799\n",
       "2016-12-30  115.05  116.83  114.77  22.770264"
      ]
     },
     "execution_count": 14,
     "metadata": {},
     "output_type": "execute_result"
    }
   ],
   "source": [
    "df['MassIndex'] = MassIndex(df['High'], df['Low'])\n",
    "df.tail()"
   ]
  },
  {
   "cell_type": "markdown",
   "metadata": {
    "collapsed": true
   },
   "source": [
    "6.) Plot daily close and Mass Index."
   ]
  },
  {
   "cell_type": "code",
   "execution_count": 15,
   "metadata": {
    "collapsed": false
   },
   "outputs": [
    {
     "data": {
      "text/plain": [
       "<matplotlib.axes._subplots.AxesSubplot at 0x1135bcdd0>"
      ]
     },
     "execution_count": 15,
     "metadata": {},
     "output_type": "execute_result"
    },
    {
     "data": {
      "image/png": "[encoded data removed]",
      "text/plain": [
       "<matplotlib.figure.Figure at 0x113259090>"
      ]
     },
     "metadata": {},
     "output_type": "display_data"
    },
    {
     "data": {
      "image/png": "[encoded data removed]",
      "text/plain": [
       "<matplotlib.figure.Figure at 0x1152e5e50>"
      ]
     },
     "metadata": {},
     "output_type": "display_data"
    }
   ],
   "source": [
    "df.plot(y=['Close'])\n",
    "df.plot(y=['MassIndex'])"
   ]
  },
  {
   "cell_type": "markdown",
   "metadata": {},
   "source": [
    "There you have it! We created our Mass Index indicator. Here’s the full code:"
   ]
  },
  {
   "cell_type": "code",
   "execution_count": 19,
   "metadata": {
    "collapsed": false
   },
   "outputs": [
    {
     "data": {
      "text/html": [
       "<div>\n",
       "<table border=\"1\" class=\"dataframe\">\n",
       "  <thead>\n",
       "    <tr style=\"text-align: right;\">\n",
       "      <th></th>\n",
       "      <th>Close</th>\n",
       "      <th>High</th>\n",
       "      <th>Low</th>\n",
       "      <th>MassIndex</th>\n",
       "      <th>MACD</th>\n",
       "      <th>MACD_sign</th>\n",
       "      <th>MACD_diff</th>\n",
       "    </tr>\n",
       "    <tr>\n",
       "      <th>Date</th>\n",
       "      <th></th>\n",
       "      <th></th>\n",
       "      <th></th>\n",
       "      <th></th>\n",
       "      <th></th>\n",
       "      <th></th>\n",
       "      <th></th>\n",
       "    </tr>\n",
       "  </thead>\n",
       "  <tbody>\n",
       "    <tr>\n",
       "      <th>2016-12-23</th>\n",
       "      <td>117.27</td>\n",
       "      <td>117.56</td>\n",
       "      <td>116.30</td>\n",
       "      <td>22.922974</td>\n",
       "      <td>-0.125468</td>\n",
       "      <td>-0.051185</td>\n",
       "      <td>-0.074283</td>\n",
       "    </tr>\n",
       "    <tr>\n",
       "      <th>2016-12-27</th>\n",
       "      <td>118.01</td>\n",
       "      <td>118.68</td>\n",
       "      <td>116.86</td>\n",
       "      <td>22.857517</td>\n",
       "      <td>-0.132156</td>\n",
       "      <td>-0.067379</td>\n",
       "      <td>-0.064777</td>\n",
       "    </tr>\n",
       "    <tr>\n",
       "      <th>2016-12-28</th>\n",
       "      <td>116.92</td>\n",
       "      <td>118.25</td>\n",
       "      <td>116.65</td>\n",
       "      <td>22.743369</td>\n",
       "      <td>-0.182926</td>\n",
       "      <td>-0.090488</td>\n",
       "      <td>-0.092437</td>\n",
       "    </tr>\n",
       "    <tr>\n",
       "      <th>2016-12-29</th>\n",
       "      <td>116.35</td>\n",
       "      <td>117.53</td>\n",
       "      <td>116.06</td>\n",
       "      <td>22.690799</td>\n",
       "      <td>-0.237972</td>\n",
       "      <td>-0.119985</td>\n",
       "      <td>-0.117987</td>\n",
       "    </tr>\n",
       "    <tr>\n",
       "      <th>2016-12-30</th>\n",
       "      <td>115.05</td>\n",
       "      <td>116.83</td>\n",
       "      <td>114.77</td>\n",
       "      <td>22.770264</td>\n",
       "      <td>-0.327911</td>\n",
       "      <td>-0.161570</td>\n",
       "      <td>-0.166341</td>\n",
       "    </tr>\n",
       "  </tbody>\n",
       "</table>\n",
       "</div>"
      ],
      "text/plain": [
       "             Close    High     Low  MassIndex      MACD  MACD_sign  MACD_diff\n",
       "Date                                                                         \n",
       "2016-12-23  117.27  117.56  116.30  22.922974 -0.125468  -0.051185  -0.074283\n",
       "2016-12-27  118.01  118.68  116.86  22.857517 -0.132156  -0.067379  -0.064777\n",
       "2016-12-28  116.92  118.25  116.65  22.743369 -0.182926  -0.090488  -0.092437\n",
       "2016-12-29  116.35  117.53  116.06  22.690799 -0.237972  -0.119985  -0.117987\n",
       "2016-12-30  115.05  116.83  114.77  22.770264 -0.327911  -0.161570  -0.166341"
      ]
     },
     "execution_count": 19,
     "metadata": {},
     "output_type": "execute_result"
    }
   ],
   "source": [
    "import pandas as pd\n",
    "import numpy as np\n",
    "from pandas_datareader import data as web\n",
    "import matplotlib.pyplot as plt\n",
    "%matplotlib inline\n",
    "\n",
    "def get_stock(stock,start,end):\n",
    "     return web.DataReader(stock,'google',start,end)['Close']\n",
    "    \n",
    "def get_high(stock,start,end):\n",
    "     return web.DataReader(stock,'google',start,end)['High']\n",
    "    \n",
    "def get_low(stock,start,end):\n",
    "     return web.DataReader(stock,'google',start,end)['Low']\n",
    "                \n",
    "def MassIndex(high, low):  \n",
    "    Range = high - low  \n",
    "    EX1 = pd.ewma(Range, span = 9, min_periods = 8)  \n",
    "    EX2 = pd.ewma(EX1, span = 9, min_periods = 8)  \n",
    "    Mass = EX1 / EX2  \n",
    "    MassIndex = pd.Series(pd.rolling_sum(Mass, 25), name = 'Mass Index')  \n",
    "    return MassIndex\n",
    "   \n",
    "df = pd.DataFrame(get_stock('FB', '1/1/2014', '12/31/2016'))\n",
    "df['High'] = get_high('FB', '1/1/2014', '12/31/2016')\n",
    "df['Low'] = get_low('FB', '1/1/2014', '12/31/2016')\n",
    "df['MassIndex'] = MassIndex(df['High'], df['Low'])\n",
    "df.tail()"
   ]
  }
 ],
 "metadata": {
  "anaconda-cloud": {},
  "kernelspec": {
   "display_name": "Python [conda root]",
   "language": "python",
   "name": "conda-root-py"
  },
  "language_info": {
   "codemirror_mode": {
    "name": "ipython",
    "version": 2
   },
   "file_extension": ".py",
   "mimetype": "text/x-python",
   "name": "python",
   "nbconvert_exporter": "python",
   "pygments_lexer": "ipython2",
   "version": "2.7.12"
  }
 },
 "nbformat": 4,
 "nbformat_minor": 1
}
