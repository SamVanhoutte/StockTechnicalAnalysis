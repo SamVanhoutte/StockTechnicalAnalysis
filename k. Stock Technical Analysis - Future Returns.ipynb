{
 "cells": [
  {
   "cell_type": "markdown",
   "metadata": {},
   "source": [
    "# Stock Technical Analysis: Python Tutorial"
   ]
  },
  {
   "cell_type": "markdown",
   "metadata": {},
   "source": [
    "Future Returns\n",
    "\n",
    "Contact: andrewshamlet@gmail.com // @andrewshamlet"
   ]
  },
  {
   "cell_type": "markdown",
   "metadata": {},
   "source": [
    "Python streamlines tasks requiring multiple steps in a single block of code. For this reason, it is a great tool for querying and performing analysis on data."
   ]
  },
  {
   "cell_type": "markdown",
   "metadata": {},
   "source": [
    "Last Tutorial, we outlined steps for calculating the Stochastic Oscillator."
   ]
  },
  {
   "cell_type": "markdown",
   "metadata": {},
   "source": [
    "In this Tutorial, we walk through calculating 5-day, 10-day, and 20-day future returns, from historical data."
   ]
  },
  {
   "cell_type": "markdown",
   "metadata": {},
   "source": [
    "Caculating 5-day, 10-day, and 20-day future returns will allow us to identify relationships between current technical indicators and future returns. "
   ]
  },
  {
   "cell_type": "markdown",
   "metadata": {},
   "source": [
    "Let’s use Python to compute the 5-day, 10-day, and 20-day future returns. "
   ]
  },
  {
   "cell_type": "markdown",
   "metadata": {},
   "source": [
    "1.) Import modules."
   ]
  },
  {
   "cell_type": "code",
   "execution_count": 1,
   "metadata": {
    "collapsed": false
   },
   "outputs": [],
   "source": [
    "import pandas as pd\n",
    "import numpy as np\n",
    "from pandas_datareader import data as web\n",
    "import matplotlib.pyplot as plt\n",
    "%matplotlib inline"
   ]
  },
  {
   "cell_type": "markdown",
   "metadata": {},
   "source": [
    "2.) Define function for querying daily close."
   ]
  },
  {
   "cell_type": "code",
   "execution_count": 2,
   "metadata": {
    "collapsed": true
   },
   "outputs": [],
   "source": [
    "def get_stock(stock,start,end):\n",
    "     return web.DataReader(stock,'google',start,end)['Close']"
   ]
  },
  {
   "cell_type": "markdown",
   "metadata": {},
   "source": [
    "3.) Define function for calculating the 5-day future return."
   ]
  },
  {
   "cell_type": "code",
   "execution_count": 9,
   "metadata": {
    "collapsed": false
   },
   "outputs": [],
   "source": [
    "def fiveday(close):  \n",
    "    fiveday = ((close.shift(-5) - close) / close) * 100\n",
    "    return fiveday"
   ]
  },
  {
   "cell_type": "markdown",
   "metadata": {},
   "source": [
    "4.) Define function for calculating 10-day future return. "
   ]
  },
  {
   "cell_type": "code",
   "execution_count": 10,
   "metadata": {
    "collapsed": false
   },
   "outputs": [],
   "source": [
    "def tenday(close):  \n",
    "    tenday = ((close.shift(-10) - close) / close) * 100\n",
    "    return tenday"
   ]
  },
  {
   "cell_type": "markdown",
   "metadata": {},
   "source": [
    "5.) Define function for calculating 20-day future return."
   ]
  },
  {
   "cell_type": "code",
   "execution_count": 11,
   "metadata": {
    "collapsed": true
   },
   "outputs": [],
   "source": [
    "def twentyday(close):  \n",
    "    twentyday = ((close.shift(-20) - close) / close) * 100\n",
    "    return twentyday"
   ]
  },
  {
   "cell_type": "markdown",
   "metadata": {},
   "source": [
    "6.) Query daily close."
   ]
  },
  {
   "cell_type": "code",
   "execution_count": 12,
   "metadata": {
    "collapsed": true
   },
   "outputs": [],
   "source": [
    "df = pd.DataFrame(get_stock('FB', '1/1/2016', '12/31/2016'))"
   ]
  },
  {
   "cell_type": "markdown",
   "metadata": {},
   "source": [
    "7.) Run daily close through fiveday, tenday, and twentday functions. Save series to new columns in dataframe. "
   ]
  },
  {
   "cell_type": "code",
   "execution_count": 13,
   "metadata": {
    "collapsed": false
   },
   "outputs": [
    {
     "data": {
      "text/html": [
       "<div>\n",
       "<table border=\"1\" class=\"dataframe\">\n",
       "  <thead>\n",
       "    <tr style=\"text-align: right;\">\n",
       "      <th></th>\n",
       "      <th>Close</th>\n",
       "      <th>5 day</th>\n",
       "      <th>10 day</th>\n",
       "      <th>20 day</th>\n",
       "    </tr>\n",
       "    <tr>\n",
       "      <th>Date</th>\n",
       "      <th></th>\n",
       "      <th></th>\n",
       "      <th></th>\n",
       "      <th></th>\n",
       "    </tr>\n",
       "  </thead>\n",
       "  <tbody>\n",
       "    <tr>\n",
       "      <th>2016-11-25</th>\n",
       "      <td>120.38</td>\n",
       "      <td>-4.136900</td>\n",
       "      <td>-0.581492</td>\n",
       "      <td>-2.583486</td>\n",
       "    </tr>\n",
       "    <tr>\n",
       "      <th>2016-11-28</th>\n",
       "      <td>120.41</td>\n",
       "      <td>-2.474878</td>\n",
       "      <td>-2.192509</td>\n",
       "      <td>-1.993190</td>\n",
       "    </tr>\n",
       "    <tr>\n",
       "      <th>2016-11-29</th>\n",
       "      <td>120.87</td>\n",
       "      <td>-2.945313</td>\n",
       "      <td>-0.463308</td>\n",
       "      <td>-3.267974</td>\n",
       "    </tr>\n",
       "    <tr>\n",
       "      <th>2016-11-30</th>\n",
       "      <td>118.42</td>\n",
       "      <td>-0.396892</td>\n",
       "      <td>1.511569</td>\n",
       "      <td>-1.748016</td>\n",
       "    </tr>\n",
       "    <tr>\n",
       "      <th>2016-12-01</th>\n",
       "      <td>115.10</td>\n",
       "      <td>3.310165</td>\n",
       "      <td>4.752389</td>\n",
       "      <td>-0.043440</td>\n",
       "    </tr>\n",
       "  </tbody>\n",
       "</table>\n",
       "</div>"
      ],
      "text/plain": [
       "             Close     5 day    10 day    20 day\n",
       "Date                                            \n",
       "2016-11-25  120.38 -4.136900 -0.581492 -2.583486\n",
       "2016-11-28  120.41 -2.474878 -2.192509 -1.993190\n",
       "2016-11-29  120.87 -2.945313 -0.463308 -3.267974\n",
       "2016-11-30  118.42 -0.396892  1.511569 -1.748016\n",
       "2016-12-01  115.10  3.310165  4.752389 -0.043440"
      ]
     },
     "execution_count": 13,
     "metadata": {},
     "output_type": "execute_result"
    }
   ],
   "source": [
    "df['5 day'] = fiveday(df['Close'])\n",
    "df['10 day'] = tenday(df['Close'])\n",
    "df['20 day'] = twentyday(df['Close'])\n",
    "df = df.dropna()\n",
    "df.tail()"
   ]
  },
  {
   "cell_type": "markdown",
   "metadata": {},
   "source": [
    "8.) Plot average 5-day, 10-day, and 20-day future returns."
   ]
  },
  {
   "cell_type": "code",
   "execution_count": 14,
   "metadata": {
    "collapsed": false
   },
   "outputs": [
    {
     "data": {
      "text/plain": [
       "<matplotlib.axes._subplots.AxesSubplot at 0x112be5fd0>"
      ]
     },
     "execution_count": 14,
     "metadata": {},
     "output_type": "execute_result"
    },
    {
     "data": {
      "image/png": "[encoded data removed]",
      "text/plain": [
       "<matplotlib.figure.Figure at 0x112b483d0>"
      ]
     },
     "metadata": {},
     "output_type": "display_data"
    }
   ],
   "source": [
    "df2 = df[['5 day', '10 day', '20 day']].mean()\n",
    "df2.plot(kind='bar')"
   ]
  },
  {
   "cell_type": "markdown",
   "metadata": {},
   "source": [
    "There you have it! We calculated 5-day, 10-day, and 20-day future returns. Here’s the full code:"
   ]
  },
  {
   "cell_type": "code",
   "execution_count": 15,
   "metadata": {
    "collapsed": false
   },
   "outputs": [
    {
     "data": {
      "text/html": [
       "<div>\n",
       "<table border=\"1\" class=\"dataframe\">\n",
       "  <thead>\n",
       "    <tr style=\"text-align: right;\">\n",
       "      <th></th>\n",
       "      <th>Close</th>\n",
       "      <th>5 day</th>\n",
       "      <th>10 day</th>\n",
       "      <th>20 day</th>\n",
       "    </tr>\n",
       "    <tr>\n",
       "      <th>Date</th>\n",
       "      <th></th>\n",
       "      <th></th>\n",
       "      <th></th>\n",
       "      <th></th>\n",
       "    </tr>\n",
       "  </thead>\n",
       "  <tbody>\n",
       "    <tr>\n",
       "      <th>2016-11-25</th>\n",
       "      <td>120.38</td>\n",
       "      <td>-4.136900</td>\n",
       "      <td>-0.581492</td>\n",
       "      <td>-2.583486</td>\n",
       "    </tr>\n",
       "    <tr>\n",
       "      <th>2016-11-28</th>\n",
       "      <td>120.41</td>\n",
       "      <td>-2.474878</td>\n",
       "      <td>-2.192509</td>\n",
       "      <td>-1.993190</td>\n",
       "    </tr>\n",
       "    <tr>\n",
       "      <th>2016-11-29</th>\n",
       "      <td>120.87</td>\n",
       "      <td>-2.945313</td>\n",
       "      <td>-0.463308</td>\n",
       "      <td>-3.267974</td>\n",
       "    </tr>\n",
       "    <tr>\n",
       "      <th>2016-11-30</th>\n",
       "      <td>118.42</td>\n",
       "      <td>-0.396892</td>\n",
       "      <td>1.511569</td>\n",
       "      <td>-1.748016</td>\n",
       "    </tr>\n",
       "    <tr>\n",
       "      <th>2016-12-01</th>\n",
       "      <td>115.10</td>\n",
       "      <td>3.310165</td>\n",
       "      <td>4.752389</td>\n",
       "      <td>-0.043440</td>\n",
       "    </tr>\n",
       "  </tbody>\n",
       "</table>\n",
       "</div>"
      ],
      "text/plain": [
       "             Close     5 day    10 day    20 day\n",
       "Date                                            \n",
       "2016-11-25  120.38 -4.136900 -0.581492 -2.583486\n",
       "2016-11-28  120.41 -2.474878 -2.192509 -1.993190\n",
       "2016-11-29  120.87 -2.945313 -0.463308 -3.267974\n",
       "2016-11-30  118.42 -0.396892  1.511569 -1.748016\n",
       "2016-12-01  115.10  3.310165  4.752389 -0.043440"
      ]
     },
     "execution_count": 15,
     "metadata": {},
     "output_type": "execute_result"
    }
   ],
   "source": [
    "import pandas as pd\n",
    "import numpy as np\n",
    "from pandas_datareader import data as web\n",
    "import matplotlib.pyplot as plt\n",
    "%matplotlib inline\n",
    "\n",
    "def get_stock(stock,start,end):\n",
    "     return web.DataReader(stock,'google',start,end)['Close']\n",
    "    \n",
    "def fiveday(close):  \n",
    "    fiveday = ((close.shift(-5) - close) / close) * 100\n",
    "    return fiveday\n",
    "\n",
    "def tenday(close):  \n",
    "    tenday = ((close.shift(-10) - close) / close) * 100\n",
    "    return tenday\n",
    "\n",
    "def twentyday(close):  \n",
    "    twentyday = ((close.shift(-20) - close) / close) * 100\n",
    "    return twentyday\n",
    "\n",
    "df = pd.DataFrame(get_stock('FB', '1/1/2016', '12/31/2016'))\n",
    "df['5 day'] = fiveday(df['Close'])\n",
    "df['10 day'] = tenday(df['Close'])\n",
    "df['20 day'] = twentyday(df['Close'])\n",
    "df = df.dropna()\n",
    "df.tail()"
   ]
  }
 ],
 "metadata": {
  "anaconda-cloud": {},
  "kernelspec": {
   "display_name": "Python [conda root]",
   "language": "python",
   "name": "conda-root-py"
  },
  "language_info": {
   "codemirror_mode": {
    "name": "ipython",
    "version": 2
   },
   "file_extension": ".py",
   "mimetype": "text/x-python",
   "name": "python",
   "nbconvert_exporter": "python",
   "pygments_lexer": "ipython2",
   "version": "2.7.12"
  }
 },
 "nbformat": 4,
 "nbformat_minor": 1
}
